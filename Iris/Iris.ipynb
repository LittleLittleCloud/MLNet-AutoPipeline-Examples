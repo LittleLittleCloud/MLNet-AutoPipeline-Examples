{
 "cells": [
  {
   "cell_type": "markdown",
   "metadata": {},
   "source": [
    "### Iris flower\n",
    "In this example, we will use [ML.Net](https://dotnet.microsoft.com/apps/machinelearning-ai/ml-dotnet) and [MLNet.AutoPipeline](https://github.com/LittleLittleCloud/machinelearning-auto-pipeline) to create a sweepable pipeline and use that to predict the type of iris flower. You will learn:\n",
    "\n",
    "- How to create and train sweepable pipeline.\n",
    "- How to run hyperparameter tuning using sweepable pipeline\n",
    "- How to create ML.Net estimator chain from sweepable pipeline with fine-tuned hyper parameters.\n",
    "\n",
    "### Let's start!"
   ]
  },
  {
   "cell_type": "markdown",
   "metadata": {},
   "source": [
    "### Iris dataset and task\n",
    "\n",
    "The Iris flower dataset is a multivariate dataset introduced by Ronald Fisher. It consisits of 50 samples from each of three iris (setosa, virginica and versicolor). For each sample, four features are measured:\n",
    "\n",
    "- sepals_width\n",
    "- sepals_length\n",
    "- petals_width\n",
    "- petals_length\n",
    "\n",
    "The task is given the four features, determining which kind of iris the given sample is. In machine learning, it is known as **multiclass classification**"
   ]
  },
  {
   "cell_type": "markdown",
   "metadata": {},
   "source": [
    "### Install dependency"
   ]
  },
  {
   "cell_type": "code",
   "execution_count": 32,
   "metadata": {},
   "outputs": [
    {
     "output_type": "display_data",
     "data": {
      "text/html": "<div><strong>Restore sources</strong><ul><li><span>https://pkgs.dev.azure.com/xiaoyuz0315/BigMiao/_packaging/MLNet-Auto-Pipeline/nuget/v3/index.json</span></li></ul></div>"
     },
     "metadata": {}
    }
   ],
   "source": [
    "#i \"nuget:https://pkgs.dev.azure.com/xiaoyuz0315/BigMiao/_packaging/MLNet-Auto-Pipeline/nuget/v3/index.json\"\n",
    "#r \"nuget:MLNet.AutoPipeline,0.9.0-v202007298\""
   ]
  },
  {
   "cell_type": "markdown",
   "metadata": {},
   "source": [
    "### Include namespace"
   ]
  },
  {
   "cell_type": "code",
   "execution_count": 33,
   "metadata": {},
   "outputs": [],
   "source": [
    "using Microsoft.ML;\n",
    "using Microsoft.ML.Data;\n",
    "using MLNet.AutoPipeline;\n",
    "using MLNet.AutoPipeline.Metric;\n",
    "using System;\n",
    "using System.Threading.Tasks;"
   ]
  },
  {
   "cell_type": "markdown",
   "metadata": {},
   "source": [
    "### Load dataset\n",
    "We are going to use ML.Net Data Api to load Iris dataset. First, we need to define the class of Iris, then we can call [`LoadFromTextFile`](https://docs.microsoft.com/en-us/dotnet/api/microsoft.ml.textloadersavercatalog.loadfromtextfile?view=ml-dotnet#Microsoft_ML_TextLoaderSaverCatalog_LoadFromTextFile_Microsoft_ML_DataOperationsCatalog_System_String_Microsoft_ML_Data_TextLoader_Column___System_Char_System_Boolean_System_Boolean_System_Boolean_System_Boolean_) to load Iris dataset from file. The data will be saved in [`IDataView`](https://docs.microsoft.com/en-us/dotnet/api/microsoft.ml.idataview?view=ml-dotnet), which can be used for further pipeline operation."
   ]
  },
  {
   "cell_type": "code",
   "execution_count": 35,
   "metadata": {},
   "outputs": [
    {
     "output_type": "error",
     "ename": "Unhandled exception",
     "evalue": "System.ArgumentOutOfRangeException: File does not exist at path: ./iris.csv (Parameter 'path')\r\n   at Microsoft.ML.TextLoaderSaverCatalog.LoadFromTextFile[TInput](DataOperationsCatalog catalog, String path, Char separatorChar, Boolean hasHeader, Boolean allowQuoting, Boolean trimWhitespace, Boolean allowSparse)\r\n   at Submission#38.<<Initialize>>d__0.MoveNext()\r\n--- End of stack trace from previous location where exception was thrown ---\r\n   at Microsoft.CodeAnalysis.Scripting.ScriptExecutionState.RunSubmissionsAsync[TResult](ImmutableArray`1 precedingExecutors, Func`2 currentExecutor, StrongBox`1 exceptionHolderOpt, Func`2 catchExceptionOpt, CancellationToken cancellationToken)",
     "traceback": [
      "System.ArgumentOutOfRangeException: File does not exist at path: ./iris.csv (Parameter 'path')\r\n   at Microsoft.ML.TextLoaderSaverCatalog.LoadFromTextFile[TInput](DataOperationsCatalog catalog, String path, Char separatorChar, Boolean hasHeader, Boolean allowQuoting, Boolean trimWhitespace, Boolean allowSparse)\r\n   at Submission#38.<<Initialize>>d__0.MoveNext()\r\n--- End of stack trace from previous location where exception was thrown ---\r\n   at Microsoft.CodeAnalysis.Scripting.ScriptExecutionState.RunSubmissionsAsync[TResult](ImmutableArray`1 precedingExecutors, Func`2 currentExecutor, StrongBox`1 exceptionHolderOpt, Func`2 catchExceptionOpt, CancellationToken cancellationToken)",
      "   at Microsoft.ML.TextLoaderSaverCatalog.LoadFromTextFile[TInput](DataOperationsCatalog catalog, String path, Char separatorChar, Boolean hasHeader, Boolean allowQuoting, Boolean trimWhitespace, Boolean allowSparse)",
      "   at Submission#38.<<Initialize>>d__0.MoveNext()",
      "--- End of stack trace from previous location where exception was thrown ---",
      "   at Microsoft.CodeAnalysis.Scripting.ScriptExecutionState.RunSubmissionsAsync[TResult](ImmutableArray`1 precedingExecutors, Func`2 currentExecutor, StrongBox`1 exceptionHolderOpt, Func`2 catchExceptionOpt, CancellationToken cancellationToken)"
     ]
    }
   ],
   "source": [
    "// class that hold Iris dataset\n",
    "class Iris\n",
    "{\n",
    "    [LoadColumn(0)]\n",
    "    public float sepal_length;\n",
    "\n",
    "    [LoadColumn(1)]\n",
    "    public float sepal_width;\n",
    "\n",
    "    [LoadColumn(2)]\n",
    "    public float petal_length;\n",
    "\n",
    "    [LoadColumn(3)]\n",
    "    public float petal_width;\n",
    "\n",
    "    [LoadColumn(4)]\n",
    "    public string species;\n",
    "}\n",
    "        \n",
    "var context = new MLContext(seed:0);\n",
    "var dataset = context.Data.LoadFromTextFile<Iris>(@\".\\iris.csv\", separatorChar: ',', hasHeader: true);\n",
    "\n",
    "// create train-test split on dataset\n",
    "var split = context.Data.TrainTestSplit(dataset, 0.3);\n",
    "Console.WriteLine($\"train split: {split.TrainSet.Preview()}\");\n",
    "Console.WriteLine($\"test split: {split.TestSet.Preview()}\");"
   ]
  },
  {
   "cell_type": "markdown",
   "metadata": {},
   "source": [
    "### Create sweepable pipeline\n",
    "Create sweepable pipeline is very similar to create ML.Net EstimatorChain. MLNet.AutoPipeline provides two extension method to help transfer a ML.Net EstimatorChain to a sweepable pipeline.\n",
    "\n",
    "- [`Append<TLastTran>(TLastTran, INode)`](https://littlelittlecloud.github.io/machinelearning-auto-pipeline-site/api/MLNet.AutoPipeline.EstimatorChainExtension.html#MLNet_AutoPipeline_EstimatorChainExtension_Append__1___0_MLNet_AutoPipeline_INode_)\n",
    "- [`Append<TLastTrain>(EstimatorChain<TLastTrain>, INode)`](https://littlelittlecloud.github.io/machinelearning-auto-pipeline-site/api/MLNet.AutoPipeline.EstimatorChainExtension.html#MLNet_AutoPipeline_EstimatorChainExtension_Append__1___0_MLNet_AutoPipeline_INode_)\n",
    "\n",
    "The `INode` interface is a thin wrapper over `IEstimator` in ML.Net. It provides a uniform way for `SweepablePipeline` to sweep over hyper-parameters. All sweepable trainers in MLNet.AutoPipeline implements `INode` and its derivative interface `ISweepableNode`. The available trainers for multiclass-classification can be found in [`SweepableMultiClassificationTrainerExtension`](https://littlelittlecloud.github.io/machinelearning-auto-pipeline-site/api/MLNet.AutoPipeline.SweepableMultiClassificationTrainerExtension.html). And it should cover all standard trainers in ML.Net. Other than pre-defined trainers, MLNet.AutoPipeline also provides [`API`](https://littlelittlecloud.github.io/machinelearning-auto-pipeline-site/api/MLNet.AutoPipeline.AutoPipelineCatalog.html#MLNet_AutoPipeline_AutoPipelineCatalog_SweepableTrainer__2_System_Func_Microsoft_ML_MLContext___1___0__MLNet_AutoPipeline_OptionBuilder___1__System_String___System_String_System_String_) for creating custom sweepable trainers.\n",
    "\n",
    "Below, a [`LightGbm`](https://littlelittlecloud.github.io/machinelearning-auto-pipeline-site/api/MLNet.AutoPipeline.SweepableMultiClassificationTrainerExtension.html#MLNet_AutoPipeline_SweepableMultiClassificationTrainerExtension_LightGbm_MLNet_AutoPipeline_SweepableMultiClassificationTrainers_System_String_System_String_MLNet_AutoPipeline_OptionBuilder_Microsoft_ML_Trainers_LightGbm_LightGbmMulticlassTrainer_Options__Microsoft_ML_Trainers_LightGbm_LightGbmMulticlassTrainer_Options_) sweepable trainer is used. The way to set up sweeping range for hyperparameter is through [`OptionBuilder`](https://littlelittlecloud.github.io/machinelearning-auto-pipeline-site/api/MLNet.AutoPipeline.OptionBuilder-1.html). Because its `optionBuilder` is null, a default [`LightGbmOptionBuilder`](https://littlelittlecloud.github.io/machinelearning-auto-pipeline-site/api/MLNet.AutoPipeline.LightGbmOptionBuilder.html) will be used here."
   ]
  },
  {
   "cell_type": "code",
   "execution_count": 26,
   "metadata": {},
   "outputs": [],
   "source": [
    "var sweepablePipeline = context.Transforms.Conversion.MapValueToKey(\"species\", \"species\")\n",
    "              .Append(context.Transforms.Concatenate(\"features\", new string[] { \"sepal_length\", \"sepal_width\", \"petal_length\", \"petal_width\" }))\n",
    "              // We use LightGbm as trainer.\n",
    "              .Append(context.AutoML().MultiClassification.LightGbm(\"species\", \"features\"));"
   ]
  },
  {
   "cell_type": "markdown",
   "metadata": {},
   "source": [
    "### Train and tune hyperparameters\n",
    "MLNet.AutoPipeline provides [`Experiment`](https://littlelittlecloud.github.io/machinelearning-auto-pipeline-site/api/MLNet.AutoPipeline.Experiment.html) class to help train sweepable pipeline. It allows you to create an experiment using sweepable pipeline, training on dataset and get result. During training, you can pass an IProgress reporter to observe sweeping over hyperparameters, and after training, experiment result with all iteration info is available, with which you can re-create a ML.Net estimator chain with exactly the same hyper parameter and reproduce the training result."
   ]
  },
  {
   "cell_type": "code",
   "execution_count": 27,
   "metadata": {},
   "outputs": [
    {
     "output_type": "error",
     "ename": "Unhandled exception",
     "evalue": "System.ArgumentNullException: Value cannot be null. (Parameter 'data')\r\n   at Microsoft.ML.Runtime.Contracts.CheckValue[T](IExceptionContext ctx, T val, String paramName)\r\n   at Microsoft.ML.DataOperationsCatalog.TrainTestSplit(IDataView data, Double testFraction, String samplingKeyColumnName, Nullable`1 seed)\r\n   at MLNet.AutoPipeline.Experiment.TrainAsync(IDataView train, Single validateFraction, IProgress`1 reporter, CancellationToken ct)\r\n   at Submission#30.<<Initialize>>d__0.MoveNext()\r\n--- End of stack trace from previous location where exception was thrown ---\r\n   at Microsoft.CodeAnalysis.Scripting.ScriptExecutionState.RunSubmissionsAsync[TResult](ImmutableArray`1 precedingExecutors, Func`2 currentExecutor, StrongBox`1 exceptionHolderOpt, Func`2 catchExceptionOpt, CancellationToken cancellationToken)",
     "traceback": [
      "System.ArgumentNullException: Value cannot be null. (Parameter 'data')\r\n   at Microsoft.ML.Runtime.Contracts.CheckValue[T](IExceptionContext ctx, T val, String paramName)\r\n   at Microsoft.ML.DataOperationsCatalog.TrainTestSplit(IDataView data, Double testFraction, String samplingKeyColumnName, Nullable`1 seed)\r\n   at MLNet.AutoPipeline.Experiment.TrainAsync(IDataView train, Single validateFraction, IProgress`1 reporter, CancellationToken ct)\r\n   at Submission#30.<<Initialize>>d__0.MoveNext()\r\n--- End of stack trace from previous location where exception was thrown ---\r\n   at Microsoft.CodeAnalysis.Scripting.ScriptExecutionState.RunSubmissionsAsync[TResult](ImmutableArray`1 precedingExecutors, Func`2 currentExecutor, StrongBox`1 exceptionHolderOpt, Func`2 catchExceptionOpt, CancellationToken cancellationToken)",
      "   at Microsoft.ML.Runtime.Contracts.CheckValue[T](IExceptionContext ctx, T val, String paramName)",
      "   at Microsoft.ML.DataOperationsCatalog.TrainTestSplit(IDataView data, Double testFraction, String samplingKeyColumnName, Nullable`1 seed)",
      "   at MLNet.AutoPipeline.Experiment.TrainAsync(IDataView train, Single validateFraction, IProgress`1 reporter, CancellationToken ct)",
      "   at Submission#30.<<Initialize>>d__0.MoveNext()",
      "--- End of stack trace from previous location where exception was thrown ---",
      "   at Microsoft.CodeAnalysis.Scripting.ScriptExecutionState.RunSubmissionsAsync[TResult](ImmutableArray`1 precedingExecutors, Func`2 currentExecutor, StrongBox`1 exceptionHolderOpt, Func`2 catchExceptionOpt, CancellationToken cancellationToken)"
     ]
    }
   ],
   "source": [
    "class Reporter : IProgress<IterationInfo>\n",
    "{\n",
    "    public void Report(IterationInfo value)\n",
    "    {\n",
    "        Console.WriteLine(value.ParameterSet);\n",
    "        Console.WriteLine(value.SweepablePipeline.Summary());\n",
    "        Console.WriteLine($\"validate score: {value.ScoreMetric.Name}: {value.ScoreMetric.Score}\");\n",
    "        Console.WriteLine($\"training time: {value.TrainingTime}\");\n",
    "    }\n",
    "}\n",
    "\n",
    "var experimentOption = new Experiment.Option()\n",
    "{\n",
    "    ScoreMetric = new MicroAccuracyMetric(),\n",
    "    Label = \"species\",\n",
    "    Iteration = 30,\n",
    "};\n",
    "var experiment = context.AutoML().CreateExperiment(sweepablePipeline, experimentOption);\n",
    "var reporter = new Reporter();\n",
    "var result = await experiment.TrainAsync(split.TrainSet, reporter: reporter);"
   ]
  },
  {
   "cell_type": "markdown",
   "metadata": {},
   "source": [
    "### Evaluate model\n",
    "After training, the best model is saved in [`ExperimentResult.BestModel`](https://littlelittlecloud.github.io/machinelearning-auto-pipeline-site/api/MLNet.AutoPipeline.ExperimentResult.html#MLNet_AutoPipeline_ExperimentResult_BestModel). The corresponding iteration is saved in [`ExperimentResult.BestIteration`](https://littlelittlecloud.github.io/machinelearning-auto-pipeline-site/api/MLNet.AutoPipeline.ExperimentResult.html#MLNet_AutoPipeline_ExperimentResult_BestIteration)."
   ]
  },
  {
   "cell_type": "code",
   "execution_count": 28,
   "metadata": {},
   "outputs": [
    {
     "output_type": "error",
     "ename": "Unhandled exception",
     "evalue": "System.NullReferenceException: Object reference not set to an instance of an object.\r\n   at Submission#31.<<Initialize>>d__0.MoveNext()\r\n--- End of stack trace from previous location where exception was thrown ---\r\n   at Microsoft.CodeAnalysis.Scripting.ScriptExecutionState.RunSubmissionsAsync[TResult](ImmutableArray`1 precedingExecutors, Func`2 currentExecutor, StrongBox`1 exceptionHolderOpt, Func`2 catchExceptionOpt, CancellationToken cancellationToken)",
     "traceback": [
      "System.NullReferenceException: Object reference not set to an instance of an object.\r\n   at Submission#31.<<Initialize>>d__0.MoveNext()\r\n--- End of stack trace from previous location where exception was thrown ---\r\n   at Microsoft.CodeAnalysis.Scripting.ScriptExecutionState.RunSubmissionsAsync[TResult](ImmutableArray`1 precedingExecutors, Func`2 currentExecutor, StrongBox`1 exceptionHolderOpt, Func`2 catchExceptionOpt, CancellationToken cancellationToken)",
      "   at Submission#31.<<Initialize>>d__0.MoveNext()",
      "--- End of stack trace from previous location where exception was thrown ---",
      "   at Microsoft.CodeAnalysis.Scripting.ScriptExecutionState.RunSubmissionsAsync[TResult](ImmutableArray`1 precedingExecutors, Func`2 currentExecutor, StrongBox`1 exceptionHolderOpt, Func`2 catchExceptionOpt, CancellationToken cancellationToken)"
     ]
    }
   ],
   "source": [
    "var bestModel = result.BestModel;\n",
    "var eval = bestModel.Transform(split.TestSet);\n",
    "var metric = context.MulticlassClassification.Evaluate(eval, \"species\");\n",
    "Console.WriteLine($\"best model test score: {metric.MicroAccuracy}\");\n",
    "\n",
    "// re-create ML.Net model using hyper parameters from best iteration\n",
    "var bestIteration = result.BestIteration;\n",
    "var estimator = bestIteration.BuildPipeline();\n",
    "\n",
    "// retrain\n",
    "var model = estimator.Fit(split.TrainSet);\n",
    "var eval2 = model.Transform(split.TestSet);\n",
    "var metric2 = context.MulticlassClassification.Evaluate(eval2, \"species\");\n",
    "Console.WriteLine($\"retrain model test score: {metric2.MicroAccuracy}\"); // should be close with best model test score"
   ]
  },
  {
   "cell_type": "markdown",
   "metadata": {},
   "source": [
    "### Compare with ML.Net EstimatorChain\n",
    "In the following section, we will create a corresponding ML.Net estimatorchain without hyper parameters, and compare the difference."
   ]
  },
  {
   "cell_type": "code",
   "execution_count": 29,
   "metadata": {},
   "outputs": [
    {
     "output_type": "error",
     "ename": "Unhandled exception",
     "evalue": "System.NullReferenceException: Object reference not set to an instance of an object.\r\n   at Microsoft.ML.Data.EstimatorChain`1.Fit(IDataView input)\r\n   at Submission#32.<<Initialize>>d__0.MoveNext()\r\n--- End of stack trace from previous location where exception was thrown ---\r\n   at Microsoft.CodeAnalysis.Scripting.ScriptExecutionState.RunSubmissionsAsync[TResult](ImmutableArray`1 precedingExecutors, Func`2 currentExecutor, StrongBox`1 exceptionHolderOpt, Func`2 catchExceptionOpt, CancellationToken cancellationToken)",
     "traceback": [
      "System.NullReferenceException: Object reference not set to an instance of an object.\r\n   at Microsoft.ML.Data.EstimatorChain`1.Fit(IDataView input)\r\n   at Submission#32.<<Initialize>>d__0.MoveNext()\r\n--- End of stack trace from previous location where exception was thrown ---\r\n   at Microsoft.CodeAnalysis.Scripting.ScriptExecutionState.RunSubmissionsAsync[TResult](ImmutableArray`1 precedingExecutors, Func`2 currentExecutor, StrongBox`1 exceptionHolderOpt, Func`2 catchExceptionOpt, CancellationToken cancellationToken)",
      "   at Microsoft.ML.Data.EstimatorChain`1.Fit(IDataView input)",
      "   at Submission#32.<<Initialize>>d__0.MoveNext()",
      "--- End of stack trace from previous location where exception was thrown ---",
      "   at Microsoft.CodeAnalysis.Scripting.ScriptExecutionState.RunSubmissionsAsync[TResult](ImmutableArray`1 precedingExecutors, Func`2 currentExecutor, StrongBox`1 exceptionHolderOpt, Func`2 catchExceptionOpt, CancellationToken cancellationToken)"
     ]
    }
   ],
   "source": [
    "var estimatorChain = context.Transforms.Conversion.MapValueToKey(\"species\", \"species\")\n",
    "              .Append(context.Transforms.Concatenate(\"features\", new string[] { \"sepal_length\", \"sepal_width\", \"petal_length\", \"petal_width\" }))\n",
    "              .Append(context.MulticlassClassification.Trainers.LightGbm(\"species\", \"features\"));\n",
    "              \n",
    "var mlModel = estimatorChain.Fit(split.TrainSet);\n",
    "var mlModel_eval = mlModel.Transform(split.TestSet);\n",
    "var mlModel_metric = context.MulticlassClassification.Evaluate(mlModel_eval, \"species\");\n",
    "Console.WriteLine($\"retrain model test score: {mlModel_metric.MicroAccuracy}\")"
   ]
  },
  {
   "cell_type": "code",
   "execution_count": null,
   "metadata": {},
   "outputs": [],
   "source": []
  }
 ],
 "metadata": {
  "kernelspec": {
   "display_name": ".NET (C#)",
   "language": "C#",
   "name": ".net-csharp"
  },
  "language_info": {
   "file_extension": ".cs",
   "mimetype": "text/x-csharp",
   "name": "C#",
   "pygments_lexer": "csharp",
   "version": "3.7.4-final"
  }
 },
 "nbformat": 4,
 "nbformat_minor": 2
}