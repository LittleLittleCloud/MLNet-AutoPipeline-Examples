{
 "cells": [
  {
   "cell_type": "markdown",
   "metadata": {},
   "source": [
    "### Titanic challenge\n",
    "\n",
    "In this tutorial, we will walk through the complete process of finishing the famous Titanic challenge in [Kaggle](https://www.kaggle.com/c/titanic/) using [ML.Net](https://github.com/dotnet/machinelearning) and [MLNet.AutoPipeline](https://github.com/LittleLittleCloud/machinelearning-auto-pipeline). The goal of Titanic challenge is to predict if a passanger will be survived or not based on his/her age, ticket, etc. \n",
    "\n",
    "#### ML.Net and MLNet.AutoPipeline\n",
    "\n",
    "[ML.Net](https://github.com/dotnet/machinelearning) is a C# machine learning framework created and maintained by Microsoft. It provides easy API for creating pipelines, training and consuming models, and tons of examples that are easy to start with. Visit the official [website](https://dotnet.microsoft.com/learn/ml-dotnet) for more information.\n",
    "\n",
    "[MLNet.AutoPipeline](https://github.com/LittleLittleCloud/machinelearning-auto-pipeline) is a third-party library build on top of [ML.Net](https://github.com/dotnet/machinelearning). It provides add-on APIs for creating sweepable pipelines which supports automatic hyper-parameter tunning. \n",
    "\n",
    "#### Let's start!"
   ]
  },
  {
   "cell_type": "markdown",
   "metadata": {},
   "source": [
    "### Install dependencies and include namespaces\n"
   ]
  },
  {
   "cell_type": "code",
   "execution_count": 7,
   "metadata": {},
   "outputs": [
    {
     "data": {
      "text/html": [
       "<div><strong>Restore sources</strong><ul><li><span>https://pkgs.dev.azure.com/xiaoyuz0315/BigMiao/_packaging/MLNet-Auto-Pipeline/nuget/v3/index.json</span></li></ul></div>"
      ]
     },
     "metadata": {},
     "output_type": "display_data"
    }
   ],
   "source": [
    "#i \"nuget:https://pkgs.dev.azure.com/xiaoyuz0315/BigMiao/_packaging/MLNet-Auto-Pipeline/nuget/v3/index.json\"\n",
    "#r \"nuget:MLNet.AutoPipeline,0.9.0-v202008143\"\n",
    "using Microsoft.ML;\n",
    "using Microsoft.ML.Data;\n",
    "using MLNet.AutoPipeline;\n",
    "using MLNet.AutoPipeline.Metric;\n",
    "using MLNet.Sweeper;\n",
    "using System;\n",
    "using System.Threading.Tasks;"
   ]
  },
  {
   "cell_type": "markdown",
   "metadata": {},
   "source": [
    "### Load Dataset\n",
    "\n",
    "The dataset is download from [kaggle](https://www.kaggle.com/c/titanic/data) and it is splitted into two parts: train.csv and test.csv. train.csv will be used to train and validate score, while test.csv will be used for creating submission to kaggle. "
   ]
  },
  {
   "cell_type": "code",
   "execution_count": 9,
   "metadata": {},
   "outputs": [
    {
     "name": "stdout",
     "output_type": "stream",
     "text": [
      "train split: 13 columns, 806 rows\n",
      "test split: 13 columns, 85 rows\n"
     ]
    }
   ],
   "source": [
    "// titanic dataset class\n",
    "class Titanic\n",
    "{\n",
    "    [LoadColumn(0)]\n",
    "    public string PassengerId;\n",
    "\n",
    "    [LoadColumn(1)]\n",
    "    public int Pclass;\n",
    "    \n",
    "    [LoadColumn(2)]\n",
    "    public string Name;\n",
    "    \n",
    "    [LoadColumn(3)]\n",
    "    public string Sex;\n",
    "    \n",
    "    [LoadColumn(4)]\n",
    "    public float Age;\n",
    "    \n",
    "    [LoadColumn(5)]\n",
    "    public float SibSp;\n",
    "    \n",
    "    [LoadColumn(6)]\n",
    "    public float Parch;\n",
    "    \n",
    "    [LoadColumn(7)]\n",
    "    public string Ticket;\n",
    "    \n",
    "    [LoadColumn(8)]\n",
    "    public float Fare;\n",
    "    \n",
    "    [LoadColumn(9)]\n",
    "    public string Cabin;\n",
    "    \n",
    "    [LoadColumn(10)]\n",
    "    public string Embarked;\n",
    "\n",
    "    [LoadColumn(11)]\n",
    "    public bool Survived;\n",
    "}\n",
    "\n",
    "var context = new MLContext(seed:0);\n",
    "var dataset = context.Data.LoadFromTextFile<Titanic>(@\"titanic/train.csv\", separatorChar: ',', hasHeader: true, allowQuoting: true );\n",
    "\n",
    "// create train-test split on dataset\n",
    "var split = context.Data.TrainTestSplit(dataset, 0.1);\n",
    "Console.WriteLine($\"train split: {split.TrainSet.Preview(1000)}\");\n",
    "Console.WriteLine($\"test split: {split.TestSet.Preview(1000)}\");"
   ]
  },
  {
   "cell_type": "markdown",
   "metadata": {},
   "source": [
    "### data preprocess\n",
    "\n",
    "According to the definition of each field, PassengerId, Name and Ticket should have no effect to the final result and can be removed. While the Cabin might be useful, it contains too many empty value and we are going to drop that column either. Pclass, Sex and Embarked are catagorised value and should be tokenized before feeding to pipeline. Age is a useful information, and it contains some missing value and we can replace them with its mean value."
   ]
  },
  {
   "cell_type": "code",
   "execution_count": 10,
   "metadata": {},
   "outputs": [],
   "source": [
    "var preprocessingPipeline = context.Transforms.Categorical.OneHotEncoding(\"Pclass\", \"Pclass\")\n",
    "                                   .Append(context.Transforms.Categorical.OneHotEncoding(\"Sex\"))\n",
    "                                   .Append(context.Transforms.Categorical.OneHotEncoding(\"Embarked\"))\n",
    "                                   .Append(context.Transforms.ReplaceMissingValues(\"Age\",replacementMode : Microsoft.ML.Transforms.MissingValueReplacingEstimator.ReplacementMode.Mean))\n",
    "                                   .Append(context.Transforms.Concatenate(\"features\", new string[] { \"Pclass\", \"Sex\", \"Embarked\", \"Age\", \"Fare\", \"Parch\", \"SibSp\" }));\n"
   ]
  },
  {
   "cell_type": "markdown",
   "metadata": {},
   "source": [
    "### Trainer\n",
    "\n",
    "We will use [FastTreeBinaryTrainer](https://docs.microsoft.com/en-us/dotnet/api/microsoft.ml.trainers.fasttree.fasttreebinarytrainer?view=ml-dotnet) to train our model. It's a very nice binary classifier which implements [MART](https://arxiv.org/abs/1505.01866) gradiant boosting algorithm and has good performance on multiple datasets. But we will not use that trainer in our pipeline directly. Instead, we will use MLNet.AutoPipeline to create a sweepable pipeline, which can sweeping over the hyper-parameter of FastTreeBinaryTrainer and find the best set of parameters. \n",
    "\n",
    "The corresponding FastTreeBinaryTrainer in MLNet.AutoPipeline is [FastTree](https://automlnet.com/api/MLNet.AutoPipeline.SweepableBinaryClassificationTrainerExtension.html#MLNet_AutoPipeline_SweepableBinaryClassificationTrainerExtension_FastTree_MLNet_AutoPipeline_SweepableBinaryClassificationTrainers_System_String_System_String_MLNet_AutoPipeline_SweepableOption_Microsoft_ML_Trainers_FastTree_FastTreeBinaryTrainer_Options__Microsoft_ML_Trainers_FastTree_FastTreeBinaryTrainer_Options_), which has the same name of the command creating FastTreeBinaryTrainer in ML.Net. Other than FastTree, MLNet.AutoPipeline also provides almost all binary trainers that are available in ML.Net, you can find the full list [here](https://automlnet.com/api/MLNet.AutoPipeline.SweepableBinaryClassificationTrainerExtension.html)."
   ]
  },
  {
   "cell_type": "code",
   "execution_count": 11,
   "metadata": {},
   "outputs": [
    {
     "name": "stdout",
     "output_type": "stream",
     "text": [
      "Type of option: Options\r\n",
      "\r\n",
      "Parameter Name: LabelColumnName\r\n",
      "Parameter Type: String\r\n",
      "Parameter Value: MLNet.Sweeper.ObjectParameterValue\r\n",
      "\r\n",
      "Parameter Name: FeatureColumnName\r\n",
      "Parameter Type: String\r\n",
      "Parameter Value: MLNet.Sweeper.ObjectParameterValue\r\n",
      "\r\n",
      "Parameter Name: ExampleWeightColumnName\r\n",
      "Parameter Type: String\r\n",
      "Parameter Value: MLNet.Sweeper.ObjectParameterValue\r\n",
      "\r\n",
      "Parameter Name: NumberOfLeaves\r\n",
      "Parameter Type: int\r\n",
      "Min Value: 10\r\n",
      "Max Value: 1000\r\n",
      "Steps: 100\r\n",
      "Log Base: True\r\n",
      "\r\n",
      "Parameter Name: NumberOfTrees\r\n",
      "Parameter Type: int\r\n",
      "Min Value: 1\r\n",
      "Max Value: 1000\r\n",
      "Steps: 100\r\n",
      "Log Base: True\r\n",
      "\r\n",
      "Parameter Name: MinimumExampleCountPerLeaf\r\n",
      "Parameter Type: int\r\n",
      "Min Value: 1\r\n",
      "Max Value: 100\r\n",
      "Steps: 100\r\n",
      "Log Base: True\r\n",
      "\r\n",
      "Parameter Name: LearningRate\r\n",
      "Parameter Type: double\r\n",
      "Min Value: 0.0001\r\n",
      "Max Value: 1\r\n",
      "Steps: 100\r\n",
      "Log Base: True\r\n",
      "\r\n",
      "\r\n"
     ]
    }
   ],
   "source": [
    "var trainingPipeline = preprocessingPipeline.Append(context.AutoML().BinaryClassification.FastTree(\"Survived\", \"features\"));\n",
    "\n",
    "// Default sweeping configuration\n",
    "Console.WriteLine(FastTreeBinaryTrainerSweepableOptions.Default);"
   ]
  },
  {
   "cell_type": "markdown",
   "metadata": {},
   "source": [
    "### Train the model"
   ]
  },
  {
   "cell_type": "code",
   "execution_count": null,
   "metadata": {},
   "outputs": [
    {
     "name": "stdout",
     "output_type": "stream",
     "text": [
      "LabelColumnName=Label FeatureColumnName=Features ExampleWeightColumnName= NumberOfLeaves=138 NumberOfTrees=7 MinimumExampleCountPerLeaf=3 LearningRate=0.5754399373371563\n",
      "SweepablePipeline(OneHotEncodingEstimator=>OneHotEncodingEstimator=>OneHotEncodingEstimator=>MissingValueReplacingEstimator=>ColumnConcatenatingEstimator=>FastTreeBinaryTrainer)\n",
      "validate score: Accuracy: 0.8188976377952756\n",
      "training time: 0.1379525\n",
      "LabelColumnName=Label FeatureColumnName=Features ExampleWeightColumnName= NumberOfLeaves=550 NumberOfTrees=6 MinimumExampleCountPerLeaf=7 LearningRate=0.002089296130854041\n",
      "SweepablePipeline(OneHotEncodingEstimator=>OneHotEncodingEstimator=>OneHotEncodingEstimator=>MissingValueReplacingEstimator=>ColumnConcatenatingEstimator=>FastTreeBinaryTrainer)\n",
      "validate score: Accuracy: 0.8188976377952756\n",
      "training time: 0.0733526\n",
      "LabelColumnName=Label FeatureColumnName=Features ExampleWeightColumnName= NumberOfLeaves=912 NumberOfTrees=13 MinimumExampleCountPerLeaf=5 LearningRate=0.10000000000000006\n",
      "SweepablePipeline(OneHotEncodingEstimator=>OneHotEncodingEstimator=>OneHotEncodingEstimator=>MissingValueReplacingEstimator=>ColumnConcatenatingEstimator=>FastTreeBinaryTrainer)\n",
      "validate score: Accuracy: 0.8149606299212598\n",
      "training time: 0.1538041\n",
      "LabelColumnName=Label FeatureColumnName=Features ExampleWeightColumnName= NumberOfLeaves=91 NumberOfTrees=1 MinimumExampleCountPerLeaf=1 LearningRate=0.43651583224016594\n",
      "SweepablePipeline(OneHotEncodingEstimator=>OneHotEncodingEstimator=>OneHotEncodingEstimator=>MissingValueReplacingEstimator=>ColumnConcatenatingEstimator=>FastTreeBinaryTrainer)\n",
      "validate score: Accuracy: 0.7755905511811023\n",
      "training time: 0.0704429\n",
      "LabelColumnName=Label FeatureColumnName=Features ExampleWeightColumnName= NumberOfLeaves=76 NumberOfTrees=17 MinimumExampleCountPerLeaf=79 LearningRate=0.6309573444801934\n",
      "SweepablePipeline(OneHotEncodingEstimator=>OneHotEncodingEstimator=>OneHotEncodingEstimator=>MissingValueReplacingEstimator=>ColumnConcatenatingEstimator=>FastTreeBinaryTrainer)\n",
      "validate score: Accuracy: 0.8228346456692913\n",
      "training time: 0.0936544\n",
      "LabelColumnName=Label FeatureColumnName=Features ExampleWeightColumnName= NumberOfLeaves=32 NumberOfTrees=1 MinimumExampleCountPerLeaf=21 LearningRate=0.0010964781961431858\n",
      "SweepablePipeline(OneHotEncodingEstimator=>OneHotEncodingEstimator=>OneHotEncodingEstimator=>MissingValueReplacingEstimator=>ColumnConcatenatingEstimator=>FastTreeBinaryTrainer)\n",
      "validate score: Accuracy: 0.8149606299212598\n",
      "training time: 0.0834137\n",
      "LabelColumnName=Label FeatureColumnName=Features ExampleWeightColumnName= NumberOfLeaves=76 NumberOfTrees=234 MinimumExampleCountPerLeaf=5 LearningRate=0.3019951720402015\n",
      "SweepablePipeline(OneHotEncodingEstimator=>OneHotEncodingEstimator=>OneHotEncodingEstimator=>MissingValueReplacingEstimator=>ColumnConcatenatingEstimator=>FastTreeBinaryTrainer)\n",
      "validate score: Accuracy: 0.7913385826771654\n",
      "training time: 0.4840865\n",
      "LabelColumnName=Label FeatureColumnName=Features ExampleWeightColumnName= NumberOfLeaves=912 NumberOfTrees=6 MinimumExampleCountPerLeaf=9 LearningRate=0.9120108393559101\n",
      "SweepablePipeline(OneHotEncodingEstimator=>OneHotEncodingEstimator=>OneHotEncodingEstimator=>MissingValueReplacingEstimator=>ColumnConcatenatingEstimator=>FastTreeBinaryTrainer)\n",
      "validate score: Accuracy: 0.8070866141732284\n",
      "training time: 0.0711645\n",
      "LabelColumnName=Label FeatureColumnName=Features ExampleWeightColumnName= NumberOfLeaves=35 NumberOfTrees=6 MinimumExampleCountPerLeaf=1 LearningRate=0.00047863009232263865\n",
      "SweepablePipeline(OneHotEncodingEstimator=>OneHotEncodingEstimator=>OneHotEncodingEstimator=>MissingValueReplacingEstimator=>ColumnConcatenatingEstimator=>FastTreeBinaryTrainer)\n",
      "validate score: Accuracy: 0.8228346456692913\n",
      "training time: 0.0638582\n",
      "LabelColumnName=Label FeatureColumnName=Features ExampleWeightColumnName= NumberOfLeaves=479 NumberOfTrees=26 MinimumExampleCountPerLeaf=6 LearningRate=0.0012022644346174143\n",
      "SweepablePipeline(OneHotEncodingEstimator=>OneHotEncodingEstimator=>OneHotEncodingEstimator=>MissingValueReplacingEstimator=>ColumnConcatenatingEstimator=>FastTreeBinaryTrainer)\n",
      "validate score: Accuracy: 0.8385826771653543\n",
      "training time: 0.1023214\n",
      "LabelColumnName=Label FeatureColumnName=Features ExampleWeightColumnName= NumberOfLeaves=46 NumberOfTrees=135 MinimumExampleCountPerLeaf=9 LearningRate=0.003981071705534975\n",
      "SweepablePipeline(OneHotEncodingEstimator=>OneHotEncodingEstimator=>OneHotEncodingEstimator=>MissingValueReplacingEstimator=>ColumnConcatenatingEstimator=>FastTreeBinaryTrainer)\n",
      "validate score: Accuracy: 0.8307086614173228\n",
      "training time: 0.193844\n",
      "LabelColumnName=Label FeatureColumnName=Features ExampleWeightColumnName= NumberOfLeaves=29 NumberOfTrees=110 MinimumExampleCountPerLeaf=1 LearningRate=0.091201083935591\n",
      "SweepablePipeline(OneHotEncodingEstimator=>OneHotEncodingEstimator=>OneHotEncodingEstimator=>MissingValueReplacingEstimator=>ColumnConcatenatingEstimator=>FastTreeBinaryTrainer)\n",
      "validate score: Accuracy: 0.8267716535433071\n",
      "training time: 0.167834\n",
      "LabelColumnName=Label FeatureColumnName=Features ExampleWeightColumnName= NumberOfLeaves=21 NumberOfTrees=24 MinimumExampleCountPerLeaf=87 LearningRate=0.06309573444801932\n",
      "SweepablePipeline(OneHotEncodingEstimator=>OneHotEncodingEstimator=>OneHotEncodingEstimator=>MissingValueReplacingEstimator=>ColumnConcatenatingEstimator=>FastTreeBinaryTrainer)\n",
      "validate score: Accuracy: 0.7952755905511811\n",
      "training time: 0.0622793\n",
      "LabelColumnName=Label FeatureColumnName=Features ExampleWeightColumnName= NumberOfLeaves=380 NumberOfTrees=83 MinimumExampleCountPerLeaf=2 LearningRate=0.17378008287493774\n",
      "SweepablePipeline(OneHotEncodingEstimator=>OneHotEncodingEstimator=>OneHotEncodingEstimator=>MissingValueReplacingEstimator=>ColumnConcatenatingEstimator=>FastTreeBinaryTrainer)\n",
      "validate score: Accuracy: 0.8307086614173228\n",
      "training time: 0.4697179\n",
      "LabelColumnName=Label FeatureColumnName=Features ExampleWeightColumnName= NumberOfLeaves=44 NumberOfTrees=759 MinimumExampleCountPerLeaf=16 LearningRate=0.0019054607179632493\n",
      "SweepablePipeline(OneHotEncodingEstimator=>OneHotEncodingEstimator=>OneHotEncodingEstimator=>MissingValueReplacingEstimator=>ColumnConcatenatingEstimator=>FastTreeBinaryTrainer)\n",
      "validate score: Accuracy: 0.8346456692913385\n",
      "training time: 0.4787822\n",
      "LabelColumnName=Label FeatureColumnName=Features ExampleWeightColumnName= NumberOfLeaves=120 NumberOfTrees=1 MinimumExampleCountPerLeaf=14 LearningRate=0.00036307805477010167\n",
      "SweepablePipeline(OneHotEncodingEstimator=>OneHotEncodingEstimator=>OneHotEncodingEstimator=>MissingValueReplacingEstimator=>ColumnConcatenatingEstimator=>FastTreeBinaryTrainer)\n",
      "validate score: Accuracy: 0.8188976377952756\n",
      "training time: 0.0583029\n",
      "LabelColumnName=Label FeatureColumnName=Features ExampleWeightColumnName= NumberOfLeaves=145 NumberOfTrees=933 MinimumExampleCountPerLeaf=7 LearningRate=0.00020892961308540425\n",
      "SweepablePipeline(OneHotEncodingEstimator=>OneHotEncodingEstimator=>OneHotEncodingEstimator=>MissingValueReplacingEstimator=>ColumnConcatenatingEstimator=>FastTreeBinaryTrainer)\n",
      "validate score: Accuracy: 0.8228346456692913\n",
      "training time: 1.2170582\n",
      "LabelColumnName=Label FeatureColumnName=Features ExampleWeightColumnName= NumberOfLeaves=10 NumberOfTrees=19 MinimumExampleCountPerLeaf=14 LearningRate=0.5754399373371563\n",
      "SweepablePipeline(OneHotEncodingEstimator=>OneHotEncodingEstimator=>OneHotEncodingEstimator=>MissingValueReplacingEstimator=>ColumnConcatenatingEstimator=>FastTreeBinaryTrainer)\n",
      "validate score: Accuracy: 0.8228346456692913\n",
      "training time: 0.069498\n",
      "LabelColumnName=Label FeatureColumnName=Features ExampleWeightColumnName= NumberOfLeaves=14 NumberOfTrees=14 MinimumExampleCountPerLeaf=15 LearningRate=0.7585775750291833\n",
      "SweepablePipeline(OneHotEncodingEstimator=>OneHotEncodingEstimator=>OneHotEncodingEstimator=>MissingValueReplacingEstimator=>ColumnConcatenatingEstimator=>FastTreeBinaryTrainer)\n",
      "validate score: Accuracy: 0.7913385826771654\n",
      "training time: 0.0622649\n",
      "LabelColumnName=Label FeatureColumnName=Features ExampleWeightColumnName= NumberOfLeaves=275 NumberOfTrees=21 MinimumExampleCountPerLeaf=7 LearningRate=1\n",
      "SweepablePipeline(OneHotEncodingEstimator=>OneHotEncodingEstimator=>OneHotEncodingEstimator=>MissingValueReplacingEstimator=>ColumnConcatenatingEstimator=>FastTreeBinaryTrainer)\n"
     ]
    },
    {
     "name": "stdout",
     "output_type": "stream",
     "text": [
      "validate score: Accuracy: 0.8070866141732284\n",
      "training time: 0.0970429\n",
      "LabelColumnName=Label FeatureColumnName=Features ExampleWeightColumnName= NumberOfLeaves=83 NumberOfTrees=14 MinimumExampleCountPerLeaf=13 LearningRate=0.012022644346174135\n",
      "SweepablePipeline(OneHotEncodingEstimator=>OneHotEncodingEstimator=>OneHotEncodingEstimator=>MissingValueReplacingEstimator=>ColumnConcatenatingEstimator=>FastTreeBinaryTrainer)\n",
      "validate score: Accuracy: 0.8346456692913385\n",
      "training time: 0.0613966\n",
      "LabelColumnName=Label FeatureColumnName=Features ExampleWeightColumnName= NumberOfLeaves=200 NumberOfTrees=95 MinimumExampleCountPerLeaf=29 LearningRate=0.006309573444801936\n",
      "SweepablePipeline(OneHotEncodingEstimator=>OneHotEncodingEstimator=>OneHotEncodingEstimator=>MissingValueReplacingEstimator=>ColumnConcatenatingEstimator=>FastTreeBinaryTrainer)\n",
      "validate score: Accuracy: 0.8228346456692913\n",
      "training time: 0.0931524\n",
      "LabelColumnName=Label FeatureColumnName=Features ExampleWeightColumnName= NumberOfLeaves=115 NumberOfTrees=1 MinimumExampleCountPerLeaf=6 LearningRate=0.04786300923226389\n",
      "SweepablePipeline(OneHotEncodingEstimator=>OneHotEncodingEstimator=>OneHotEncodingEstimator=>MissingValueReplacingEstimator=>ColumnConcatenatingEstimator=>FastTreeBinaryTrainer)\n",
      "validate score: Accuracy: 0.8346456692913385\n",
      "training time: 0.0550562\n"
     ]
    }
   ],
   "source": [
    "class Reporter : IProgress<IterationInfo>\n",
    "{\n",
    "    public void Report(IterationInfo value)\n",
    "    {\n",
    "        Console.WriteLine(value.ParameterSet);\n",
    "        Console.WriteLine(value.SweepablePipeline.Summary());\n",
    "        Console.WriteLine($\"validate score: {value.ScoreMetric.Name}: {value.ScoreMetric.Score}\");\n",
    "        Console.WriteLine($\"training time: {value.TrainingTime}\");\n",
    "    }\n",
    "}\n",
    "\n",
    "public class AccuracyMetric : IMetric\n",
    "{\n",
    "    public string Name => \"Accuracy\";\n",
    "\n",
    "    public bool IsMaximizing => true;\n",
    "\n",
    "    public double Score(MLContext context, IDataView eval, string label)\n",
    "    {\n",
    "        return context.BinaryClassification.Evaluate(eval, label).Accuracy;\n",
    "    }\n",
    "}\n",
    "\n",
    "var experimentOption = new Experiment.Option()\n",
    "{\n",
    "    ScoreMetric = new AccuracyMetric(),\n",
    "    Label = \"Survived\",\n",
    "    Iteration = 200,\n",
    "};\n",
    "var experiment = context.AutoML().CreateExperiment(trainingPipeline, experimentOption);\n",
    "var reporter = new Reporter();\n",
    "var result = await experiment.TrainAsync(split.TrainSet, reporter: reporter);"
   ]
  },
  {
   "cell_type": "markdown",
   "metadata": {},
   "source": [
    "### Evaluate the model"
   ]
  },
  {
   "cell_type": "code",
   "execution_count": 24,
   "metadata": {},
   "outputs": [
    {
     "name": "stdout",
     "output_type": "stream",
     "text": [
      "best model train score: 0.8503937007874016\n",
      "best model test score: 0.8470588235294118\n"
     ]
    }
   ],
   "source": [
    "var bestModel = result.BestModel;\n",
    "var eval = bestModel.Transform(split.TestSet);\n",
    "var metric = context.BinaryClassification.Evaluate(eval, \"Survived\");\n",
    "Console.WriteLine($\"best model test score: {metric.Accuracy}\");"
   ]
  },
  {
   "cell_type": "markdown",
   "metadata": {},
   "source": [
    "### Train and evaludate using the default setting\n",
    "\n",
    "In the next section, we are going to use [FastTreeBinaryTrainer](https://docs.microsoft.com/en-us/dotnet/api/microsoft.ml.trainers.fasttree.fasttreebinarytrainer?view=ml-dotnet) from ML.Net with default parameters to train and evaluate the model, and compare its score with the score from sweeping pipeline and see the difference."
   ]
  },
  {
   "cell_type": "code",
   "execution_count": 25,
   "metadata": {},
   "outputs": [
    {
     "name": "stdout",
     "output_type": "stream",
     "text": [
      "mlnet estimator chain train accuracy: 0.9764267990074442\n",
      "mlnet estimator chain test accuracy: 0.8117647058823529\n"
     ]
    }
   ],
   "source": [
    "var estimatorChain = preprocessingPipeline.Append(context.BinaryClassification.Trainers.FastTree(\"Survived\", \"features\"));\n",
    "              \n",
    "var mlModel = estimatorChain.Fit(split.TrainSet);\n",
    "var mlModel_eval_train = mlModel.Transform(split.TrainSet);\n",
    "var mlModel_eval_test = mlModel.Transform(split.TestSet);\n",
    "var mlModel_train_metric = context.BinaryClassification.Evaluate(mlModel_eval_train, \"Survived\");\n",
    "var mlModel_test_metric = context.BinaryClassification.Evaluate(mlModel_eval_test, \"Survived\");\n",
    "Console.WriteLine($\"mlnet estimator chain test accuracy: {mlModel_test_metric.Accuracy}\");"
   ]
  },
  {
   "cell_type": "code",
   "execution_count": null,
   "metadata": {},
   "outputs": [],
   "source": []
  }
 ],
 "metadata": {
  "kernelspec": {
   "display_name": ".NET (C#)",
   "language": "C#",
   "name": ".net-csharp"
  },
  "language_info": {
   "file_extension": ".cs",
   "mimetype": "text/x-csharp",
   "name": "C#",
   "pygments_lexer": "csharp",
   "version": "8.0"
  }
 },
 "nbformat": 4,
 "nbformat_minor": 2
}
